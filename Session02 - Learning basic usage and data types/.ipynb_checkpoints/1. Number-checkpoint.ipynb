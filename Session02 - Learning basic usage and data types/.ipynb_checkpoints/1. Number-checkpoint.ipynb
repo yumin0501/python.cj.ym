{
 "cells": [
  {
   "cell_type": "markdown",
   "metadata": {},
   "source": [
    "### 예제 - 사칙연산"
   ]
  },
  {
   "cell_type": "code",
   "execution_count": 13,
   "metadata": {},
   "outputs": [
    {
     "data": {
      "text/plain": [
       "12.456"
      ]
     },
     "execution_count": 13,
     "metadata": {},
     "output_type": "execute_result"
    }
   ],
   "source": [
    "#파이썬 사칙연산\n",
    "integer_value = 123\n",
    "float_value = 12.456\n",
    "float_value"
   ]
  },
  {
   "cell_type": "code",
   "execution_count": 14,
   "metadata": {},
   "outputs": [
    {
     "name": "stdout",
     "output_type": "stream",
     "text": [
      "135.456\n",
      "1532.088\n"
     ]
    },
    {
     "data": {
      "text/plain": [
       "9.8747591522158"
      ]
     },
     "execution_count": 14,
     "metadata": {},
     "output_type": "execute_result"
    }
   ],
   "source": [
    "# 1. 더하기 연산\n",
    "sumation = integer_value+float_value\n",
    "print(sum)\n",
    "# 2. 곱하기 연산\n",
    "multiple = integer_value*float_value\n",
    "print(multiple)\n",
    "# 3. 나누기 연산\n",
    "division = integer_value/float_value\n",
    "division"
   ]
  },
  {
   "cell_type": "code",
   "execution_count": 15,
   "metadata": {},
   "outputs": [
    {
     "data": {
      "text/plain": [
       "1.2"
      ]
     },
     "execution_count": 15,
     "metadata": {},
     "output_type": "execute_result"
    }
   ],
   "source": [
    "a=3\n",
    "b=2.5\n",
    "answer = a/b\n",
    "answer"
   ]
  },
  {
   "cell_type": "code",
   "execution_count": 16,
   "metadata": {},
   "outputs": [
    {
     "name": "stdout",
     "output_type": "stream",
     "text": [
      "135.456\n",
      "1532.088\n",
      "9.8747591522158\n",
      "144\n",
      "3\n"
     ]
    }
   ],
   "source": [
    "# 1. 더하기 연산\n",
    "sumation = integer_value+float_value\n",
    "print(sum)\n",
    "# 2. 곱하기 연산\n",
    "multiple = integer_value*float_value\n",
    "print(multiple)\n",
    "# 3. 나누기 연산\n",
    "division = integer_value/float_value\n",
    "print(division)\n",
    "# 4. 제곱연산\n",
    "integer_value2 = int(float_value)\n",
    "exponential = integer_value2**2\n",
    "print(exponential)\n",
    "# 5. 나머지 연산\n",
    "mod = integer_value%int(float_value)\n",
    "print(mod)"
   ]
  },
  {
   "cell_type": "markdown",
   "metadata": {},
   "source": [
    "### 실습 - 사칙연산"
   ]
  }
 ],
 "metadata": {
  "kernelspec": {
   "display_name": "Python 3",
   "language": "python",
   "name": "python3"
  },
  "language_info": {
   "codemirror_mode": {
    "name": "ipython",
    "version": 3
   },
   "file_extension": ".py",
   "mimetype": "text/x-python",
   "name": "python",
   "nbconvert_exporter": "python",
   "pygments_lexer": "ipython3",
   "version": "3.6.3"
  }
 },
 "nbformat": 4,
 "nbformat_minor": 2
}
