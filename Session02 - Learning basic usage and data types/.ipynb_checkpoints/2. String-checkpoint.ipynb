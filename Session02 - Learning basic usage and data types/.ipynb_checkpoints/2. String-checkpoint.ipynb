{
 "cells": [
  {
   "cell_type": "markdown",
   "metadata": {},
   "source": [
    "# 2. 문자열"
   ]
  },
  {
   "cell_type": "markdown",
   "metadata": {},
   "source": [
    "### 1. 문자열 - 문자, 단어등으로 구성된 집합"
   ]
  },
  {
   "cell_type": "code",
   "execution_count": 1,
   "metadata": {},
   "outputs": [
    {
     "name": "stdout",
     "output_type": "stream",
     "text": [
      "This is 'String' value\n",
      "This is \"String\" value\n",
      " This is \n",
      "'String\" value\n"
     ]
    }
   ],
   "source": [
    "aType = \"This is 'String' value\"\n",
    "print(aType)\n",
    "bType = 'This is \"String\" value'\n",
    "print(bType)\n",
    "cType = \"\"\" This is \n",
    "'String\" value\"\"\"\n",
    "print(cType)"
   ]
  },
  {
   "cell_type": "markdown",
   "metadata": {},
   "source": [
    "### 2. 문자열 - 문자열 연산하기"
   ]
  },
  {
   "cell_type": "code",
   "execution_count": 2,
   "metadata": {},
   "outputs": [
    {
     "name": "stdout",
     "output_type": "stream",
     "text": [
      "smart analytics\n",
      "******************** 문자열 연산 프로그램 ********************\n",
      "2\n",
      "2018\n",
      "01\n"
     ]
    }
   ],
   "source": [
    "#문자열 더하기\n",
    "head = \"smart\"\n",
    "tail = \"analytics\"\n",
    "fullString = head+\" \"+tail\n",
    "print(fullString)\n",
    "\n",
    "#문자열 곱하기 / 문자열간 + 생략 가능\n",
    "print(\"*\"*20+\" 문자열 연산 프로그램 \"+\"*\"*20)\n",
    "\n",
    "#문자열 인덱싱 0부터 시작\n",
    "yearweek = \"201801\"\n",
    "print(yearweek[0])   #첫번째 문자열 \n",
    "print(yearweek[0:4]) #0~4번째 전 문자열\n",
    "print(yearweek[4:])  #4번째부터 끝까지"
   ]
  },
  {
   "cell_type": "markdown",
   "metadata": {},
   "source": [
    "### 3. 문자열 - 문자열 관련 함수"
   ]
  },
  {
   "cell_type": "code",
   "execution_count": 3,
   "metadata": {
    "scrolled": true
   },
   "outputs": [
    {
     "name": "stdout",
     "output_type": "stream",
     "text": [
      "1\n",
      "4\n",
      "['201728']\n",
      "['2017', '28']\n"
     ]
    }
   ],
   "source": [
    "#문자열 개수세기\n",
    "yearweek = \"2017W28\"\n",
    "print(yearweek.count('W'))\n",
    "\n",
    "#문자열 위치확인\n",
    "print(yearweek.index('W'))\n",
    "delimeter=yearweek.index('W')\n",
    "yearweek_new = yearweek[:delimeter]+yearweek[delimeter+1:]\n",
    "print([yearweek_new])\n",
    "# 이외 upper, lower, replace\n",
    "\n",
    "# split 함수\n",
    "yearweek_list = yearweek.split(\"W\")\n",
    "print(yearweek_list)\n"
   ]
  },
  {
   "cell_type": "markdown",
   "metadata": {},
   "source": [
    "### 실습문제 1 \"SEC 20180212 250\" 분리"
   ]
  },
  {
   "cell_type": "markdown",
   "metadata": {},
   "source": [
    "### 실습문제 2 \"SEC 2017W28 250\" 대문자로 분리"
   ]
  }
 ],
 "metadata": {
  "kernelspec": {
   "display_name": "Python 3",
   "language": "python",
   "name": "python3"
  },
  "language_info": {
   "codemirror_mode": {
    "name": "ipython",
    "version": 3
   },
   "file_extension": ".py",
   "mimetype": "text/x-python",
   "name": "python",
   "nbconvert_exporter": "python",
   "pygments_lexer": "ipython3",
   "version": "3.6.3"
  }
 },
 "nbformat": 4,
 "nbformat_minor": 2
}
