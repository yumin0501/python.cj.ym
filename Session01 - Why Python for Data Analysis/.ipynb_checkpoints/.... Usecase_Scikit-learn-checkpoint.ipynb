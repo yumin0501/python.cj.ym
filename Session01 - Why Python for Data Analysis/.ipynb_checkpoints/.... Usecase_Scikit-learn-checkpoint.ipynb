{
 "cells": [
  {
   "cell_type": "code",
   "execution_count": 6,
   "metadata": {
    "scrolled": false
   },
   "outputs": [
    {
     "name": "stdout",
     "output_type": "stream",
     "text": [
      "   height  weight   label\n",
      "0     140      45  normal\n",
      "1     145      72     fat\n",
      "2     150      61     fat\n",
      "3     137      56     fat\n",
      "4     192      48    thin\n",
      "   weight  height\n",
      "0    0.45   0.700\n",
      "1    0.72   0.725\n",
      "2    0.61   0.750\n",
      "3    0.56   0.685\n",
      "4    0.48   0.960\n",
      "20000\n",
      "14000\n",
      "6000\n",
      "6000\n"
     ]
    },
    {
     "data": {
      "text/html": [
       "<div>\n",
       "<style scoped>\n",
       "    .dataframe tbody tr th:only-of-type {\n",
       "        vertical-align: middle;\n",
       "    }\n",
       "\n",
       "    .dataframe tbody tr th {\n",
       "        vertical-align: top;\n",
       "    }\n",
       "\n",
       "    .dataframe thead th {\n",
       "        text-align: right;\n",
       "    }\n",
       "</style>\n",
       "<table border=\"1\" class=\"dataframe\">\n",
       "  <thead>\n",
       "    <tr style=\"text-align: right;\">\n",
       "      <th></th>\n",
       "      <th>0</th>\n",
       "    </tr>\n",
       "  </thead>\n",
       "  <tbody>\n",
       "    <tr>\n",
       "      <th>0</th>\n",
       "      <td>thin</td>\n",
       "    </tr>\n",
       "    <tr>\n",
       "      <th>1</th>\n",
       "      <td>fat</td>\n",
       "    </tr>\n",
       "    <tr>\n",
       "      <th>2</th>\n",
       "      <td>thin</td>\n",
       "    </tr>\n",
       "    <tr>\n",
       "      <th>3</th>\n",
       "      <td>normal</td>\n",
       "    </tr>\n",
       "    <tr>\n",
       "      <th>4</th>\n",
       "      <td>thin</td>\n",
       "    </tr>\n",
       "  </tbody>\n",
       "</table>\n",
       "</div>"
      ],
      "text/plain": [
       "        0\n",
       "0    thin\n",
       "1     fat\n",
       "2    thin\n",
       "3  normal\n",
       "4    thin"
      ]
     },
     "execution_count": 6,
     "metadata": {},
     "output_type": "execute_result"
    }
   ],
   "source": [
    "from sklearn import svm, metrics\n",
    "from sklearn.model_selection import train_test_split\n",
    "import matplotlib.pyplot as plt\n",
    "import pandas as pd\n",
    "\n",
    "# 키와 몸무게 데이터 읽어 들이기 --- (※1)\n",
    "tbl = pd.read_csv(\"../dataset/bmi.csv\")\n",
    "print(tbl.head())\n",
    "\n",
    "# 칼럼(열)을 자르고 정규화하기 --- (※2)\n",
    "label = tbl[\"label\"]\n",
    "w = tbl[\"weight\"] / 100 # 최대 100kg라고 가정\n",
    "h = tbl[\"height\"] / 200 # 최대 200cm라고 가정\n",
    "wh = pd.concat([w, h], axis=1)\n",
    "print(wh.head())\n",
    "\n",
    "# 학습 전용 데이터와 테스트 전용 데이터로 나누기 --- (※3)\n",
    "data_train, data_test, label_train, label_test = train_test_split(wh, label, test_size = 0.3)\n",
    "\n",
    "print(len(wh))\n",
    "print(len(data_train))\n",
    "print(len(data_test))\n",
    "data_test.to_csv(\"d:/test.csv\")\n",
    "# 데이터 학습하기 --- (※4)\n",
    "model = svm.SVC()\n",
    "model.fit(data_train, label_train)\n",
    "\n",
    "# 데이터 예측하기 --- (※5)\n",
    "predict = pd.DataFrame(model.predict(data_test))\n",
    "print(predict.size)\n",
    "predict.head()"
   ]
  },
  {
   "cell_type": "code",
   "execution_count": 3,
   "metadata": {
    "scrolled": true
   },
   "outputs": [
    {
     "name": "stdout",
     "output_type": "stream",
     "text": [
      "      weight  height\n",
      "8199    0.77   0.695\n",
      "3516    0.69   0.825\n",
      "8199    fat\n",
      "3516    fat\n",
      "Name: label, dtype: object\n",
      "     0\n",
      "0  fat\n",
      "1  fat\n",
      "6000\n",
      "   weight  height   label       0\n",
      "0    0.77   0.695     fat     fat\n",
      "1    0.69   0.825     fat     fat\n",
      "2    0.77   0.675     fat     fat\n",
      "3    0.77   0.980  normal  normal\n",
      "4    0.56   0.630     fat     fat\n",
      "정답률 = 0.9895\n",
      "리포트 =\n",
      "              precision    recall  f1-score   support\n",
      "\n",
      "        fat       1.00      1.00      1.00      2285\n",
      "     normal       0.97      1.00      0.98      1815\n",
      "       thin       1.00      0.97      0.99      1900\n",
      "\n",
      "avg / total       0.99      0.99      0.99      6000\n",
      "\n"
     ]
    }
   ],
   "source": [
    "print(data_test.head(2))\n",
    "print(label_test.head(2))\n",
    "print(predict.head(2))\n",
    "\n",
    "r = pd.concat([data_test.reset_index(drop=True), label_test.reset_index(drop=True), predict.reset_index(drop=True)], axis = 1)\n",
    "r.to_csv(\"d:/result.csv\")\n",
    "print(len(r))\n",
    "print(r.head())\n",
    "# 결과 테스트하기 --- (※6)\n",
    "ac_score = metrics.accuracy_score(label_test, predict)\n",
    "cl_report = metrics.classification_report(label_test, predict)\n",
    "\n",
    "print(\"정답률 =\", ac_score)\n",
    "print(\"리포트 =\\n\", cl_report)"
   ]
  },
  {
   "cell_type": "markdown",
   "metadata": {},
   "source": [
    "## PRECISION: 맞다고 예측한것중 실제로 답은?\n",
    "## RECALL: 맞는케이스에 대해 얼마나 많이 맞다고 예측했나?  (실제 답지에 대한 정확도)\n",
    "## F1-SCORE: 조화로운 예측"
   ]
  },
  {
   "cell_type": "code",
   "execution_count": 106,
   "metadata": {
    "scrolled": true
   },
   "outputs": [
    {
     "data": {
      "text/plain": [
       "Text(0.5,1,'Petal')"
      ]
     },
     "execution_count": 106,
     "metadata": {},
     "output_type": "execute_result"
    },
    {
     "data": {
      "image/png": "[encoded data removed]",
      "text/plain": [
       "<matplotlib.figure.Figure at 0x2452c73b358>"
      ]
     },
     "metadata": {},
     "output_type": "display_data"
    }
   ],
   "source": [
    "\n",
    "import matplotlib.pyplot as plt\n",
    "from sklearn import datasets\n",
    "from sklearn.cluster import KMeans\n",
    "import sklearn.metrics as sm\n",
    " \n",
    "import pandas as pd\n",
    "import numpy as np\n",
    " \n",
    "# Only needed if you want to display your plots inline if using Notebook\n",
    "# change inline to auto if you have Spyder installed\n",
    "%matplotlib inline\n",
    "\n",
    "# import some data to play with\n",
    "iris = datasets.load_iris()\n",
    "\n",
    "iris.data\n",
    "iris.feature_names\n",
    "iris.target\n",
    "iris.target_names\n",
    "\n",
    "# Store the inputs as a Pandas Dataframe and set the column names\n",
    "x = pd.DataFrame(iris.data)\n",
    "x.columns = ['Sepal_Length','Sepal_Width','Petal_Length','Petal_Width']\n",
    " \n",
    "y = pd.DataFrame(iris.target)\n",
    "y.columns = ['Targets']\n",
    "\n",
    "# Set the size of the plot\n",
    "plt.figure(figsize=(14,7))\n",
    " \n",
    "# Create a colormap\n",
    "colormap = np.array(['red', 'lime', 'black'])\n",
    " \n",
    "# Plot Sepal\n",
    "plt.subplot(1, 2, 1)\n",
    "plt.scatter(x.Sepal_Length, x.Sepal_Width, c=colormap[y.Targets], s=40)\n",
    "plt.title('Sepal')\n",
    " \n",
    "plt.subplot(1, 2, 2)\n",
    "plt.scatter(x.Petal_Length, x.Petal_Width, c=colormap[y.Targets], s=40)\n",
    "plt.title('Petal')"
   ]
  },
  {
   "cell_type": "code",
   "execution_count": 95,
   "metadata": {
    "scrolled": true
   },
   "outputs": [
    {
     "name": "stdout",
     "output_type": "stream",
     "text": [
      "  SPECIES  PETALLENGTH  PETALWIDTH  PREDICT\n",
      "0  setosa          1.4         0.2        1\n",
      "1  setosa          1.4         0.2        1\n",
      "2  setosa          1.3         0.2        1\n",
      "3  setosa          1.5         0.2        1\n",
      "4  setosa          1.4         0.2        1\n",
      "  SPECIES  PETALLENGTH  PETALWIDTH  PREDICT  SPECIES2\n",
      "0  setosa          1.4         0.2        1         1\n",
      "1  setosa          1.4         0.2        1         1\n",
      "2  setosa          1.3         0.2        1         1\n",
      "3  setosa          1.5         0.2        1         1\n",
      "4  setosa          1.4         0.2        1         1\n"
     ]
    },
    {
     "data": {
      "image/png": "[encoded data removed]",
      "text/plain": [
       "<matplotlib.figure.Figure at 0x2452c73b908>"
      ]
     },
     "metadata": {},
     "output_type": "display_data"
    }
   ],
   "source": [
    "import pandas as pd\n",
    "from sklearn.cluster import KMeans\n",
    "from sklearn import metrics\n",
    "import matplotlib.pyplot as plt\n",
    "import numpy as np\n",
    "\n",
    "# Only needed if you want to display your plots inline if using Notebook\n",
    "# change inline to auto if you have Spyder installed\n",
    "%matplotlib inline\n",
    "\n",
    "#CSV 파일을 읽어 DataFrame 변수에 저장하기\n",
    "irisData = pd.read_csv(\"../dataset/iris.csv\")\n",
    "#print(irisData.head())\n",
    "\n",
    "name = irisData[[\"SPECIES\"]]\n",
    "features = irisData[[\"PETALLENGTH\",\"PETALWIDTH\"]]\n",
    "\n",
    "#Create model and prediction\n",
    "model = KMeans(n_clusters=3, algorithm=\"auto\")\n",
    "model.fit(features)\n",
    "predict = pd.DataFrame(model.predict(features))\n",
    "predict.columns=[\"PREDICT\"]\n",
    "\n",
    "#cncatenate labels to df as a new column / column binding\n",
    "r = pd.concat([name, features, predict], axis = 1)\n",
    "\n",
    "plt.scatter(r['PETALLENGTH'],r[\"PETALWIDTH\"], c=r[\"PREDICT\"], alpha=0.7)\n",
    "\n",
    "print(r.head())\n",
    "\n",
    "conditions = [\n",
    "    r['SPECIES']=='setosa',\n",
    "    r['SPECIES']=='versicolor',\n",
    "    r['SPECIES']=='virginica'\n",
    "]\n",
    "choices = [1,0,2]\n",
    "\n",
    "r['SPECIES2'] = np.select(conditions, choices, default = 100)\n",
    "print(r.head())\n",
    "#ac_score = metrics.accuracy_score(label_test, predict)\n",
    "#cl_report = metrics.classification_report(label_test, predict)\n",
    "#print(\"정답률 =\", ac_score)\n",
    "#print(\"리포트 =\\n\", cl_report)\n",
    "\n",
    "r.to_csv(\"d:/irisresult.csv\", index=False, encoding=\"utf-8-sig\")\n"
   ]
  },
  {
   "cell_type": "code",
   "execution_count": 97,
   "metadata": {},
   "outputs": [
    {
     "ename": "NameError",
     "evalue": "name 'SPECIES2' is not defined",
     "output_type": "error",
     "traceback": [
      "\u001b[1;31m---------------------------------------------------------------------------\u001b[0m",
      "\u001b[1;31mNameError\u001b[0m                                 Traceback (most recent call last)",
      "\u001b[1;32m<ipython-input-97-b761b27d22d0>\u001b[0m in \u001b[0;36m<module>\u001b[1;34m()\u001b[0m\n\u001b[1;32m----> 1\u001b[1;33m \u001b[0mac_score\u001b[0m \u001b[1;33m=\u001b[0m \u001b[0mmetrics\u001b[0m\u001b[1;33m.\u001b[0m\u001b[0maccuracy_score\u001b[0m\u001b[1;33m(\u001b[0m\u001b[0mSPECIES2\u001b[0m\u001b[1;33m,\u001b[0m \u001b[0mPREDICT\u001b[0m\u001b[1;33m)\u001b[0m\u001b[1;33m\u001b[0m\u001b[0m\n\u001b[0m\u001b[0;32m      2\u001b[0m \u001b[0mcl_report\u001b[0m \u001b[1;33m=\u001b[0m \u001b[0mmetrics\u001b[0m\u001b[1;33m.\u001b[0m\u001b[0mclassification_report\u001b[0m\u001b[1;33m(\u001b[0m\u001b[0mSPECIES2\u001b[0m\u001b[1;33m,\u001b[0m \u001b[0mPREDICT\u001b[0m\u001b[1;33m)\u001b[0m\u001b[1;33m\u001b[0m\u001b[0m\n\u001b[0;32m      3\u001b[0m \u001b[0mprint\u001b[0m\u001b[1;33m(\u001b[0m\u001b[1;34m\"정답률 =\"\u001b[0m\u001b[1;33m,\u001b[0m \u001b[0mac_score\u001b[0m\u001b[1;33m)\u001b[0m\u001b[1;33m\u001b[0m\u001b[0m\n\u001b[0;32m      4\u001b[0m \u001b[0mprint\u001b[0m\u001b[1;33m(\u001b[0m\u001b[1;34m\"리포트 =\\n\"\u001b[0m\u001b[1;33m,\u001b[0m \u001b[0mcl_report\u001b[0m\u001b[1;33m)\u001b[0m\u001b[1;33m\u001b[0m\u001b[0m\n",
      "\u001b[1;31mNameError\u001b[0m: name 'SPECIES2' is not defined"
     ]
    }
   ],
   "source": [
    "ac_score = metrics.accuracy_score(SPECIES2, PREDICT)\n",
    "cl_report = metrics.classification_report(SPECIES2, PREDICT)\n",
    "print(\"정답률 =\", ac_score)\n",
    "print(\"리포트 =\\n\", cl_report)"
   ]
  },
  {
   "cell_type": "code",
   "execution_count": 20,
   "metadata": {},
   "outputs": [
    {
     "name": "stdout",
     "output_type": "stream",
     "text": [
      "name type\n",
      "<class 'pandas.core.frame.DataFrame'>\n",
      "features type\n",
      "<class 'pandas.core.frame.DataFrame'>\n",
      "      NAME   SW   DB  AND  PREDICT\n",
      "0   ST0001   95   30    0        0\n",
      "1   ST0002   50   50    0        0\n",
      "2   ST0003   15   30   15        0\n",
      "3   ST0004   90   50   20        0\n",
      "4   ST0005   75   20   20        0\n",
      "5   ST0006  100   80   30        1\n",
      "6   ST0007   15   10   30        0\n",
      "7   ST0008  100  100   33        1\n",
      "8   ST0009   65   60   35        0\n",
      "9   ST0010   90   20   38        0\n",
      "10  ST0011  100   70   43        1\n",
      "11  ST0012   90   45   45        0\n",
      "12  ST0013   90   60   47        0\n",
      "13  ST0014  100  100   48        1\n",
      "14  ST0015   75   80   49        1\n",
      "15  ST0016   90  100   50        1\n",
      "16  ST0017  100   30   50        0\n",
      "17  ST0018  100  100   58        1\n",
      "18  ST0019  100  100   60        1\n",
      "19  ST0020   90   80   69        1\n",
      "20  ST0021  100  100   75        1\n",
      "21  ST0022  100  100   95        1\n",
      "22  ST0023  100  100   96        1\n",
      "23  ST0024  100  100  100        1\n",
      "24  ST0025   90  100  100        1\n",
      "25  ST0026  100  100  100        1\n"
     ]
    },
    {
     "data": {
      "text/plain": [
       "<matplotlib.collections.PathCollection at 0x2452aa7b860>"
      ]
     },
     "execution_count": 20,
     "metadata": {},
     "output_type": "execute_result"
    },
    {
     "data": {
      "image/png": "[encoded data removed]",
      "text/plain": [
       "<matplotlib.figure.Figure at 0x2452aa08320>"
      ]
     },
     "metadata": {},
     "output_type": "display_data"
    }
   ],
   "source": [
    "import pandas as pd\n",
    "from sklearn.cluster import KMeans\n",
    "import matplotlib.pyplot as plt\n",
    "\n",
    "# Only needed if you want to display your plots inline if using Notebook\n",
    "# change inline to auto if you have Spyder installed\n",
    "%matplotlib inline\n",
    "\n",
    "#CSV 파일을 읽어 DataFrame 변수에 저장하기\n",
    "studentData = pd.read_csv(\"../dataset/student_middle.csv\")\n",
    "\n",
    "#<class 'pandas.core.frame.DataFrame'>\n",
    "name = studentData[[\"NAME\"]]\n",
    "print(\"name type\")\n",
    "print(type(name))\n",
    "\n",
    "#<class 'pandas.core.frame.DataFrame'>\n",
    "features = studentData[[\"SW\",\"DB\",\"AND\"]]\n",
    "print(\"features type\")\n",
    "print(type(features))\n",
    "\n",
    "#Create model and prediction\n",
    "odel = KMeans\n",
    "model = KMeans(n_clusters=2, algorithm=\"auto\")\n",
    "model.fit(features)\n",
    "predict = pd.DataFrame(model.predict(features))\n",
    "predict.columns=[\"PREDICT\"]\n",
    "\n",
    "#cncatenate labels to df as a new column / column binding\n",
    "r = pd.concat([name, features, predict], axis = 1)\n",
    "print(r)\n",
    "\n",
    "plt.scatter(r['DB'],r[\"AND\"], c=r[\"PREDICT\"], alpha=0.7)"
   ]
  },
  {
   "cell_type": "code",
   "execution_count": 54,
   "metadata": {
    "scrolled": true
   },
   "outputs": [
    {
     "name": "stdout",
     "output_type": "stream",
     "text": [
      "      NAME  SW   DB  AND\n",
      "0   ST0001   뱀   30    0\n",
      "1   ST0002  거미   50    0\n",
      "2   ST0003   뱀   30   15\n",
      "3   ST0004   뱀   50   20\n",
      "4   ST0005   뱀   20   20\n",
      "5   ST0006  거미   80   30\n",
      "6   ST0007  거미   10   30\n",
      "7   ST0008  거미  100   33\n",
      "8   ST0009   뱀   60   35\n",
      "9   ST0010   뱀   20   38\n",
      "10  ST0011   뱀   70   43\n",
      "11  ST0012  거미   45   45\n",
      "12  ST0013  거미   60   47\n",
      "13  ST0014   뱀  100   48\n",
      "14  ST0015   뱀   80   49\n",
      "15  ST0016   뱀  100   50\n",
      "16  ST0017  거미   30   50\n",
      "17  ST0018  거미  100   58\n",
      "18  ST0019   뱀  100   60\n",
      "19  ST0020  거미   80   69\n",
      "20  ST0021   뱀  100   75\n",
      "21  ST0022  거미  100   95\n",
      "22  ST0023  거미  100   96\n",
      "23  ST0024  거미  100  100\n",
      "24  ST0025  거미  100  100\n",
      "25  ST0026   뱀  100  100\n",
      "      NAME   DB  AND  SW_거미  SW_뱀\n",
      "0   ST0001   30    0      0     1\n",
      "1   ST0002   50    0      1     0\n",
      "2   ST0003   30   15      0     1\n",
      "3   ST0004   50   20      0     1\n",
      "4   ST0005   20   20      0     1\n",
      "5   ST0006   80   30      1     0\n",
      "6   ST0007   10   30      1     0\n",
      "7   ST0008  100   33      1     0\n",
      "8   ST0009   60   35      0     1\n",
      "9   ST0010   20   38      0     1\n",
      "10  ST0011   70   43      0     1\n",
      "11  ST0012   45   45      1     0\n",
      "12  ST0013   60   47      1     0\n",
      "13  ST0014  100   48      0     1\n",
      "14  ST0015   80   49      0     1\n",
      "15  ST0016  100   50      0     1\n",
      "16  ST0017   30   50      1     0\n",
      "17  ST0018  100   58      1     0\n",
      "18  ST0019  100   60      0     1\n",
      "19  ST0020   80   69      1     0\n",
      "20  ST0021  100   75      0     1\n",
      "21  ST0022  100   95      1     0\n",
      "22  ST0023  100   96      1     0\n",
      "23  ST0024  100  100      1     0\n",
      "24  ST0025  100  100      1     0\n",
      "25  ST0026  100  100      0     1\n",
      "[[-1.27804565 -1.71283144  1.         -1.        ]\n",
      " [-0.63593576 -1.71283144 -1.          1.        ]\n",
      " [-1.27804565 -1.20134273  1.         -1.        ]\n",
      " [-0.63593576 -1.03084649  1.         -1.        ]\n",
      " [-1.59910059 -1.03084649  1.         -1.        ]\n",
      " [ 0.32722908 -0.68985401 -1.          1.        ]\n",
      " [-1.92015554 -0.68985401 -1.          1.        ]\n",
      " [ 0.96933897 -0.58755627 -1.          1.        ]\n",
      " [-0.31488081 -0.51935777  1.         -1.        ]\n",
      " [-1.59910059 -0.41706003  1.         -1.        ]\n",
      " [ 0.00617413 -0.24656379  1.         -1.        ]\n",
      " [-0.79646323 -0.1783653  -1.          1.        ]\n",
      " [-0.31488081 -0.1101668  -1.          1.        ]\n",
      " [ 0.96933897 -0.07606755  1.         -1.        ]\n",
      " [ 0.32722908 -0.0419683   1.         -1.        ]\n",
      " [ 0.96933897 -0.00786906  1.         -1.        ]\n",
      " [-1.27804565 -0.00786906 -1.          1.        ]\n",
      " [ 0.96933897  0.26492492 -1.          1.        ]\n",
      " [ 0.96933897  0.33312342  1.         -1.        ]\n",
      " [ 0.32722908  0.64001665 -1.          1.        ]\n",
      " [ 0.96933897  0.84461214  1.         -1.        ]\n",
      " [ 0.96933897  1.52659709 -1.          1.        ]\n",
      " [ 0.96933897  1.56069634 -1.          1.        ]\n",
      " [ 0.96933897  1.69709333 -1.          1.        ]\n",
      " [ 0.96933897  1.69709333 -1.          1.        ]\n",
      " [ 0.96933897  1.69709333  1.         -1.        ]]\n",
      "                 DB        AND  SW_뱀  SW_거미\n",
      "clusters                                   \n",
      "0         73.461538  57.923077     0      1\n",
      "1         92.857143  60.714286     1      0\n",
      "2         35.000000  21.333333     1      0\n"
     ]
    }
   ],
   "source": [
    "import pandas as pd\n",
    "from sklearn.cluster import KMeans\n",
    "from scipy import stats\n",
    "import matplotlib.pyplot as plt\n",
    "import seaborn as sns\n",
    "\n",
    "# Only needed if you want to display your plots inline if using Notebook\n",
    "# change inline to auto if you have Spyder installed\n",
    "%matplotlib inline\n",
    "\n",
    "#CSV 파일을 읽어 DataFrame 변수에 저장하기\n",
    "studentData = pd.read_csv(\"../dataset/student_middle2.csv\")\n",
    "\n",
    "print(studentData)\n",
    "\n",
    "studentData = pd.get_dummies(studentData, columns = [\"SW\"])\n",
    "print(studentData)\n",
    "\n",
    "#Standardize\n",
    "clmns = [\"DB\",\"AND\",\"SW_뱀\",\"SW_거미\"]\n",
    "df_tr_std = stats.zscore(studentData[clmns])\n",
    "print(df_tr_std)\n",
    "\n",
    "#Cluster the data\n",
    "kmeans = KMeans(n_clusters=3, random_state=0).fit(df_tr_std)\n",
    "labels = kmeans.labels_\n",
    "\n",
    "#Glue back to originaal data\n",
    "studentData['clusters'] = labels\n",
    "\n",
    "#Add the column into our list\n",
    "clmns.extend(['clusters'])\n",
    "\n",
    "#Lets analyze the clusters\n",
    "print (studentData[clmns].groupby(['clusters']).mean())"
   ]
  },
  {
   "cell_type": "code",
   "execution_count": 57,
   "metadata": {
    "scrolled": true
   },
   "outputs": [
    {
     "data": {
      "text/plain": [
       "Text(27.4687,0.5,'AND')"
      ]
     },
     "execution_count": 57,
     "metadata": {},
     "output_type": "execute_result"
    },
    {
     "data": {
      "image/png": "[encoded data removed]",
      "text/plain": [
       "<matplotlib.figure.Figure at 0x2452ae05dd8>"
      ]
     },
     "metadata": {},
     "output_type": "display_data"
    }
   ],
   "source": [
    "#Scatter plot of Wattage and Duration\n",
    "sns.lmplot('DB', 'AND', \n",
    "           data=studentData, \n",
    "           fit_reg=False, \n",
    "           hue=\"clusters\",  \n",
    "           scatter_kws={\"marker\": \"D\", \n",
    "                        \"s\": 100})\n",
    "plt.title('Clusters DB vs AND')\n",
    "plt.xlabel('DB')\n",
    "plt.ylabel('AND')"
   ]
  },
  {
   "cell_type": "code",
   "execution_count": null,
   "metadata": {
    "collapsed": true
   },
   "outputs": [],
   "source": []
  }
 ],
 "metadata": {
  "kernelspec": {
   "display_name": "Python 3",
   "language": "python",
   "name": "python3"
  },
  "language_info": {
   "codemirror_mode": {
    "name": "ipython",
    "version": 3
   },
   "file_extension": ".py",
   "mimetype": "text/x-python",
   "name": "python",
   "nbconvert_exporter": "python",
   "pygments_lexer": "ipython3",
   "version": "3.6.3"
  }
 },
 "nbformat": 4,
 "nbformat_minor": 2
}
