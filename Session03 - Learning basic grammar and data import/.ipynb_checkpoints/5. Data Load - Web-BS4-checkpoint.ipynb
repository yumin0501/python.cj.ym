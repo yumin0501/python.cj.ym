{
 "cells": [
  {
   "cell_type": "markdown",
   "metadata": {},
   "source": [
    "### Data load from web"
   ]
  },
  {
   "cell_type": "code",
   "execution_count": 1,
   "metadata": {},
   "outputs": [
    {
     "name": "stdout",
     "output_type": "stream",
     "text": [
      "기상청 육상 중기예보\n",
      "기압골의 영향으로 19일에 제주도와 전남에서 비가 시작되어, 20일에는 제주도와 전남, 경남에 비 또는 눈이 오겠습니다.<br />그 밖의 날은 고기압의 영향으로 대체로 맑은 날이 많겠습니다.<br />기온은 평년(최저기온: -12~0℃, 최고기온: 1~8℃)과 비슷하거나 조금 높겠습니다.<br />강수량은 평년(0~2mm)보다 적겠으나, 전남과 경남, 제주도는 조금 많겠습니다.<br /><br />* 대체로 맑은 날씨가 이어지면서 대기가 매우 건조해지겠으니, 산불 등 각종 화재예방에 각별히 유의하기 바랍니다.\n"
     ]
    }
   ],
   "source": [
    "import requests, bs4, pandas as pd, numpy as np\n",
    " \n",
    "#웹페이지 html 소스 가져오기\n",
    "resp = requests.get('http://www.kma.go.kr/weather/forecast/mid-term-rss3.jsp')\n",
    "resp.encoding='utf-8'\n",
    "html = resp.text\n",
    "\n",
    "bs = bs4.BeautifulSoup(html, 'html.parser')\n",
    "#print(bs)\n",
    "\n",
    "# html 구조 태그로 가져오기\n",
    "title = bs.find(\"title\").text\n",
    "wf = bs.find(\"wf\").text\n",
    "print(title)\n",
    "print(wf)"
   ]
  },
  {
   "cell_type": "markdown",
   "metadata": {},
   "source": [
    "### 1. 태그 찾기 - find"
   ]
  },
  {
   "cell_type": "code",
   "execution_count": 2,
   "metadata": {
    "scrolled": true
   },
   "outputs": [
    {
     "name": "stdout",
     "output_type": "stream",
     "text": [
      "[<div id=\"fh5co-page\">\n",
      "<header id=\"fh5co-header\" role=\"banner\">\n",
      "<div id=\"page_main\" style=\"text-align:right\"><font color=\"yellow\" size=\"3\">\r\n",
      "\t\t        \r\n",
      "\t\t\t\t     방문해주셔서 감사합니다.\r\n",
      "\t\t\t\t</font></div>\n",
      "<div class=\"container\">\n",
      "<div class=\"header-inner\">\n",
      "<h1><a href=\"/\">폴리텍대학 스마트금융과<span>.</span></a>\n",
      "</h1>\n",
      "<nav role=\"navigation\">\n",
      "<ul>\n",
      "<li><a href=\"/survey\">설문</a></li>\n",
      "<li><a href=\"/download\">다운로드</a></li>\n",
      "<li><a href=\"http://www.kopo.ac.kr/kangseo/board.do?menu=8689\">게시판</a></li>\n",
      "<li><a href=\"http://www.kopo.ac.kr/kangseo/board.do?menu=8799\">갤러리</a></li>\n",
      "<li><a href=\"images/curriculum.jpg\">커리큘럼</a></li>\n",
      "<li><a href=\"images/schedule.jpg\">일정</a></li>\n",
      "<!-- <li><a href=\"/contact\">문의</a></li> -->\n",
      "<!-- \t\t\t\t\t\t<li class=\"cta\"><a href=\"/login\">Login</a></li>\r\n",
      "\t\t\t\t\t\t<li class=\"cta\"><a href=\"/logout\">Logout</a></li> -->\n",
      "</ul>\n",
      "</nav>\n",
      "</div>\n",
      "</div>\n",
      "</header>\n",
      "<aside class=\"js-fullheight\" id=\"fh5co-hero\">\n",
      "<div class=\"flexslider js-fullheight\">\n",
      "<ul class=\"slides\">\n",
      "<li style=\"background-image: url(images/mainslide_1.jpg);\">\n",
      "<div class=\"overlay-gradient\"></div>\n",
      "<div class=\"container\">\n",
      "<div class=\"col-md-10 col-md-offset-1 text-center js-fullheight slider-text\">\n",
      "<div class=\"slider-text-inner\">\n",
      "<font color=\"yellow\" size=\"6\"> 대상: 초대졸이상 또는 동등이상 자격자 </font>\n",
      "<h2>\t원서 접수중 <br/> </h2>\n",
      "<font color=\"orange\" size=\"9\"> 마감임박 </font> <br/>\n",
      "<font color=\"white\" size=\"6\"> 2차: ~ '19.2.7 </font> <br/>\n",
      "<p><a class=\"btn btn-primary btn-lg\" href=\"https://bit.ly/2CUq2Qs\">원서접수 바로가기</a></p>\n",
      "</div>\n",
      "</div>\n",
      "</div>\n",
      "</li>\n",
      "<li style=\"background-image: url(images/mainslide_2.jpg);\">\n",
      "<div class=\"container\">\n",
      "<div class=\"col-md-10 col-md-offset-1 text-center js-fullheight slider-text\">\n",
      "<div class=\"slider-text-inner\">\n",
      "<h2>블로그에 자세한 소개가 되어있습니다.</h2>\n",
      "<p><a class=\"btn btn-primary btn-lg\" href=\"http://bitly.kr/WGGH\">블로그 바로가기</a></p>\n",
      "</div>\n",
      "</div>\n",
      "</div>\n",
      "</li>\n",
      "<li style=\"background-image: url(images/mainslide_3.jpg);\">\n",
      "<div class=\"container\">\n",
      "<div class=\"col-md-10 col-md-offset-1 text-center js-fullheight slider-text\">\n",
      "<div class=\"slider-text-inner\">\n",
      "<h2>유튜브에도 다양한 볼거리가 있습니다.</h2>\n",
      "<p><a class=\"btn btn-primary btn-lg\" href=\"http://bitly.kr/rC0d\">유튜브 바로가기</a></p>\n",
      "</div>\n",
      "</div>\n",
      "</div>\n",
      "</li>\n",
      "</ul>\n",
      "</div>\n",
      "</aside>\n",
      "<div class=\"class_py_quiz\" id=\"id_py_quiz\">\n",
      "<!--\r\n",
      "    <h4> 설문 </h4>\r\n",
      "    <p></p>\r\n",
      "    <a href=\"https://goo.gl/forms/A8Aaq2GnBPbGKaIe2\" button class=\"button\" >클릭하세요. </button> </a>\r\n",
      "-->\n",
      "<h4> 스마트금융과 카페 </h4>\n",
      "<p></p>\n",
      "<a button=\"\" class=\"button\" href=\"http://cafe.naver.com/smartpolytech\">클릭하세요.</a></div></div>, <div id=\"page_main\" style=\"text-align:right\"><font color=\"yellow\" size=\"3\">\r\n",
      "\t\t        \r\n",
      "\t\t\t\t     방문해주셔서 감사합니다.\r\n",
      "\t\t\t\t</font></div>, <div class=\"container\">\n",
      "<div class=\"header-inner\">\n",
      "<h1><a href=\"/\">폴리텍대학 스마트금융과<span>.</span></a>\n",
      "</h1>\n",
      "<nav role=\"navigation\">\n",
      "<ul>\n",
      "<li><a href=\"/survey\">설문</a></li>\n",
      "<li><a href=\"/download\">다운로드</a></li>\n",
      "<li><a href=\"http://www.kopo.ac.kr/kangseo/board.do?menu=8689\">게시판</a></li>\n",
      "<li><a href=\"http://www.kopo.ac.kr/kangseo/board.do?menu=8799\">갤러리</a></li>\n",
      "<li><a href=\"images/curriculum.jpg\">커리큘럼</a></li>\n",
      "<li><a href=\"images/schedule.jpg\">일정</a></li>\n",
      "<!-- <li><a href=\"/contact\">문의</a></li> -->\n",
      "<!-- \t\t\t\t\t\t<li class=\"cta\"><a href=\"/login\">Login</a></li>\r\n",
      "\t\t\t\t\t\t<li class=\"cta\"><a href=\"/logout\">Logout</a></li> -->\n",
      "</ul>\n",
      "</nav>\n",
      "</div>\n",
      "</div>, <div class=\"header-inner\">\n",
      "<h1><a href=\"/\">폴리텍대학 스마트금융과<span>.</span></a>\n",
      "</h1>\n",
      "<nav role=\"navigation\">\n",
      "<ul>\n",
      "<li><a href=\"/survey\">설문</a></li>\n",
      "<li><a href=\"/download\">다운로드</a></li>\n",
      "<li><a href=\"http://www.kopo.ac.kr/kangseo/board.do?menu=8689\">게시판</a></li>\n",
      "<li><a href=\"http://www.kopo.ac.kr/kangseo/board.do?menu=8799\">갤러리</a></li>\n",
      "<li><a href=\"images/curriculum.jpg\">커리큘럼</a></li>\n",
      "<li><a href=\"images/schedule.jpg\">일정</a></li>\n",
      "<!-- <li><a href=\"/contact\">문의</a></li> -->\n",
      "<!-- \t\t\t\t\t\t<li class=\"cta\"><a href=\"/login\">Login</a></li>\r\n",
      "\t\t\t\t\t\t<li class=\"cta\"><a href=\"/logout\">Logout</a></li> -->\n",
      "</ul>\n",
      "</nav>\n",
      "</div>, <div class=\"flexslider js-fullheight\">\n",
      "<ul class=\"slides\">\n",
      "<li style=\"background-image: url(images/mainslide_1.jpg);\">\n",
      "<div class=\"overlay-gradient\"></div>\n",
      "<div class=\"container\">\n",
      "<div class=\"col-md-10 col-md-offset-1 text-center js-fullheight slider-text\">\n",
      "<div class=\"slider-text-inner\">\n",
      "<font color=\"yellow\" size=\"6\"> 대상: 초대졸이상 또는 동등이상 자격자 </font>\n",
      "<h2>\t원서 접수중 <br/> </h2>\n",
      "<font color=\"orange\" size=\"9\"> 마감임박 </font> <br/>\n",
      "<font color=\"white\" size=\"6\"> 2차: ~ '19.2.7 </font> <br/>\n",
      "<p><a class=\"btn btn-primary btn-lg\" href=\"https://bit.ly/2CUq2Qs\">원서접수 바로가기</a></p>\n",
      "</div>\n",
      "</div>\n",
      "</div>\n",
      "</li>\n",
      "<li style=\"background-image: url(images/mainslide_2.jpg);\">\n",
      "<div class=\"container\">\n",
      "<div class=\"col-md-10 col-md-offset-1 text-center js-fullheight slider-text\">\n",
      "<div class=\"slider-text-inner\">\n",
      "<h2>블로그에 자세한 소개가 되어있습니다.</h2>\n",
      "<p><a class=\"btn btn-primary btn-lg\" href=\"http://bitly.kr/WGGH\">블로그 바로가기</a></p>\n",
      "</div>\n",
      "</div>\n",
      "</div>\n",
      "</li>\n",
      "<li style=\"background-image: url(images/mainslide_3.jpg);\">\n",
      "<div class=\"container\">\n",
      "<div class=\"col-md-10 col-md-offset-1 text-center js-fullheight slider-text\">\n",
      "<div class=\"slider-text-inner\">\n",
      "<h2>유튜브에도 다양한 볼거리가 있습니다.</h2>\n",
      "<p><a class=\"btn btn-primary btn-lg\" href=\"http://bitly.kr/rC0d\">유튜브 바로가기</a></p>\n",
      "</div>\n",
      "</div>\n",
      "</div>\n",
      "</li>\n",
      "</ul>\n",
      "</div>, <div class=\"overlay-gradient\"></div>, <div class=\"container\">\n",
      "<div class=\"col-md-10 col-md-offset-1 text-center js-fullheight slider-text\">\n",
      "<div class=\"slider-text-inner\">\n",
      "<font color=\"yellow\" size=\"6\"> 대상: 초대졸이상 또는 동등이상 자격자 </font>\n",
      "<h2>\t원서 접수중 <br/> </h2>\n",
      "<font color=\"orange\" size=\"9\"> 마감임박 </font> <br/>\n",
      "<font color=\"white\" size=\"6\"> 2차: ~ '19.2.7 </font> <br/>\n",
      "<p><a class=\"btn btn-primary btn-lg\" href=\"https://bit.ly/2CUq2Qs\">원서접수 바로가기</a></p>\n",
      "</div>\n",
      "</div>\n",
      "</div>, <div class=\"col-md-10 col-md-offset-1 text-center js-fullheight slider-text\">\n",
      "<div class=\"slider-text-inner\">\n",
      "<font color=\"yellow\" size=\"6\"> 대상: 초대졸이상 또는 동등이상 자격자 </font>\n",
      "<h2>\t원서 접수중 <br/> </h2>\n",
      "<font color=\"orange\" size=\"9\"> 마감임박 </font> <br/>\n",
      "<font color=\"white\" size=\"6\"> 2차: ~ '19.2.7 </font> <br/>\n",
      "<p><a class=\"btn btn-primary btn-lg\" href=\"https://bit.ly/2CUq2Qs\">원서접수 바로가기</a></p>\n",
      "</div>\n",
      "</div>, <div class=\"slider-text-inner\">\n",
      "<font color=\"yellow\" size=\"6\"> 대상: 초대졸이상 또는 동등이상 자격자 </font>\n",
      "<h2>\t원서 접수중 <br/> </h2>\n",
      "<font color=\"orange\" size=\"9\"> 마감임박 </font> <br/>\n",
      "<font color=\"white\" size=\"6\"> 2차: ~ '19.2.7 </font> <br/>\n",
      "<p><a class=\"btn btn-primary btn-lg\" href=\"https://bit.ly/2CUq2Qs\">원서접수 바로가기</a></p>\n",
      "</div>, <div class=\"container\">\n",
      "<div class=\"col-md-10 col-md-offset-1 text-center js-fullheight slider-text\">\n",
      "<div class=\"slider-text-inner\">\n",
      "<h2>블로그에 자세한 소개가 되어있습니다.</h2>\n",
      "<p><a class=\"btn btn-primary btn-lg\" href=\"http://bitly.kr/WGGH\">블로그 바로가기</a></p>\n",
      "</div>\n",
      "</div>\n",
      "</div>, <div class=\"col-md-10 col-md-offset-1 text-center js-fullheight slider-text\">\n",
      "<div class=\"slider-text-inner\">\n",
      "<h2>블로그에 자세한 소개가 되어있습니다.</h2>\n",
      "<p><a class=\"btn btn-primary btn-lg\" href=\"http://bitly.kr/WGGH\">블로그 바로가기</a></p>\n",
      "</div>\n",
      "</div>, <div class=\"slider-text-inner\">\n",
      "<h2>블로그에 자세한 소개가 되어있습니다.</h2>\n",
      "<p><a class=\"btn btn-primary btn-lg\" href=\"http://bitly.kr/WGGH\">블로그 바로가기</a></p>\n",
      "</div>, <div class=\"container\">\n",
      "<div class=\"col-md-10 col-md-offset-1 text-center js-fullheight slider-text\">\n",
      "<div class=\"slider-text-inner\">\n",
      "<h2>유튜브에도 다양한 볼거리가 있습니다.</h2>\n",
      "<p><a class=\"btn btn-primary btn-lg\" href=\"http://bitly.kr/rC0d\">유튜브 바로가기</a></p>\n",
      "</div>\n",
      "</div>\n",
      "</div>, <div class=\"col-md-10 col-md-offset-1 text-center js-fullheight slider-text\">\n",
      "<div class=\"slider-text-inner\">\n",
      "<h2>유튜브에도 다양한 볼거리가 있습니다.</h2>\n",
      "<p><a class=\"btn btn-primary btn-lg\" href=\"http://bitly.kr/rC0d\">유튜브 바로가기</a></p>\n",
      "</div>\n",
      "</div>, <div class=\"slider-text-inner\">\n",
      "<h2>유튜브에도 다양한 볼거리가 있습니다.</h2>\n",
      "<p><a class=\"btn btn-primary btn-lg\" href=\"http://bitly.kr/rC0d\">유튜브 바로가기</a></p>\n",
      "</div>, <div class=\"class_py_quiz\" id=\"id_py_quiz\">\n",
      "<!--\r\n",
      "    <h4> 설문 </h4>\r\n",
      "    <p></p>\r\n",
      "    <a href=\"https://goo.gl/forms/A8Aaq2GnBPbGKaIe2\" button class=\"button\" >클릭하세요. </button> </a>\r\n",
      "-->\n",
      "<h4> 스마트금융과 카페 </h4>\n",
      "<p></p>\n",
      "<a button=\"\" class=\"button\" href=\"http://cafe.naver.com/smartpolytech\">클릭하세요.</a></div>, <div class=\"class_db_quiz\" id=\"id_db_quiz\">\n",
      "<h1>데이터베이스 퀴즈 </h1>\n",
      "<a href=\"https://docs.google.com/forms/d/e/1FAIpQLSff5TjqUq9u-jRxYZvTdB7k-N0AEjx0_WSIcLZCBfFiEfoRUA/viewform?usp=sf_link\"> 6/12 오라클 Join 퀴즈 </a>\n",
      "</div>, <div class=\"container\">\n",
      "<div class=\"col-md-3 col-sm-12 col-sm-push-0 col-xs-12 col-xs-push-0\">\n",
      "<h3>스마트금융과는..</h3>\n",
      "<p>한국폴리텍대학 서울강서캠퍼스 스마트금융과는 4차산업혁명 시대에 금융과 IT를 융합하여 IT엔지니어를 양성하는데 노력하고 있습니다. </p>\n",
      "<!--<p><a href=\"https://bit.ly/2zjubdd\" class=\"btn btn-primary btn-outline with-arrow btn-sm\">학과 홈페이지<i class=\"icon-arrow-right\"></i></a></p>-->\n",
      "</div>\n",
      "<div class=\"col-md-6 col-md-push-1 col-sm-12 col-sm-push-0 col-xs-12 col-xs-push-0\">\n",
      "<h3>주요 커리큘럼</h3>\n",
      "<ul class=\"float\">\n",
      "<li><a href=\"#\">운영체제</a></li>\n",
      "<li><a href=\"#\">데이터베이스</a></li>\n",
      "<li><a href=\"#\">빅데이터 플랫폼</a></li>\n",
      "<li><a href=\"#\">빅데이터 분석</a></li>\n",
      "</ul>\n",
      "<ul class=\"float\">\n",
      "<li><a href=\"#\">웹 프로그래밍 </a></li>\n",
      "<li><a href=\"#\">모바일 프로그래밍 </a></li>\n",
      "<li><a href=\"#\">시각화 솔루션</a></li>\n",
      "</ul>\n",
      "</div>\n",
      "<div class=\"col-md-2 col-md-push-1 col-sm-12 col-sm-push-0 col-xs-12 col-xs-push-0\">\n",
      "<h3> 업데이트 중 </h3>\n",
      "<ul class=\"fh5co-social\">\n",
      "<li><a href=\"#\"><i class=\"icon-twitter\"></i></a></li>\n",
      "<li><a href=\"#\"><i class=\"icon-facebook\"></i></a></li>\n",
      "<li><a href=\"#\"><i class=\"icon-google-plus\"></i></a></li>\n",
      "<li><a href=\"#\"><i class=\"icon-instagram\"></i></a></li>\n",
      "</ul>\n",
      "</div>\n",
      "<div class=\"col-md-12 fh5co-copyright text-center\">\n",
      "<p>© 스마트금융과 All Rights Reserved. <span>Designed by 김효관 (haiteam@kopo.ac.kr) </span></p>\n",
      "</div>\n",
      "</div>, <div class=\"col-md-3 col-sm-12 col-sm-push-0 col-xs-12 col-xs-push-0\">\n",
      "<h3>스마트금융과는..</h3>\n",
      "<p>한국폴리텍대학 서울강서캠퍼스 스마트금융과는 4차산업혁명 시대에 금융과 IT를 융합하여 IT엔지니어를 양성하는데 노력하고 있습니다. </p>\n",
      "<!--<p><a href=\"https://bit.ly/2zjubdd\" class=\"btn btn-primary btn-outline with-arrow btn-sm\">학과 홈페이지<i class=\"icon-arrow-right\"></i></a></p>-->\n",
      "</div>, <div class=\"col-md-6 col-md-push-1 col-sm-12 col-sm-push-0 col-xs-12 col-xs-push-0\">\n",
      "<h3>주요 커리큘럼</h3>\n",
      "<ul class=\"float\">\n",
      "<li><a href=\"#\">운영체제</a></li>\n",
      "<li><a href=\"#\">데이터베이스</a></li>\n",
      "<li><a href=\"#\">빅데이터 플랫폼</a></li>\n",
      "<li><a href=\"#\">빅데이터 분석</a></li>\n",
      "</ul>\n",
      "<ul class=\"float\">\n",
      "<li><a href=\"#\">웹 프로그래밍 </a></li>\n",
      "<li><a href=\"#\">모바일 프로그래밍 </a></li>\n",
      "<li><a href=\"#\">시각화 솔루션</a></li>\n",
      "</ul>\n",
      "</div>, <div class=\"col-md-2 col-md-push-1 col-sm-12 col-sm-push-0 col-xs-12 col-xs-push-0\">\n",
      "<h3> 업데이트 중 </h3>\n",
      "<ul class=\"fh5co-social\">\n",
      "<li><a href=\"#\"><i class=\"icon-twitter\"></i></a></li>\n",
      "<li><a href=\"#\"><i class=\"icon-facebook\"></i></a></li>\n",
      "<li><a href=\"#\"><i class=\"icon-google-plus\"></i></a></li>\n",
      "<li><a href=\"#\"><i class=\"icon-instagram\"></i></a></li>\n",
      "</ul>\n",
      "</div>, <div class=\"col-md-12 fh5co-copyright text-center\">\n",
      "<p>© 스마트금융과 All Rights Reserved. <span>Designed by 김효관 (haiteam@kopo.ac.kr) </span></p>\n",
      "</div>]\n"
     ]
    }
   ],
   "source": [
    "import requests, bs4, pandas as pd, numpy as np\n",
    " \n",
    "#웹페이지 html 소스 가져오기\n",
    "resp = requests.get('http://www.hadoopkorea.com/quiz')\n",
    "resp.encoding='utf-8'\n",
    "html = resp.text\n",
    "\n",
    "bs = bs4.BeautifulSoup(html, 'html.parser')\n",
    "\n",
    "# html 부분구조 가져오기\n",
    "find_tag = bs.findAll(\"div\")\n",
    "print(find_tag)\n"
   ]
  },
  {
   "cell_type": "markdown",
   "metadata": {},
   "source": [
    "### 2. 속성 찾기 - find"
   ]
  },
  {
   "cell_type": "code",
   "execution_count": 3,
   "metadata": {},
   "outputs": [
    {
     "name": "stdout",
     "output_type": "stream",
     "text": [
      "<div class=\"class_py_quiz\" id=\"id_py_quiz\">\n",
      "<!--\r\n",
      "    <h4> 설문 </h4>\r\n",
      "    <p></p>\r\n",
      "    <a href=\"https://goo.gl/forms/A8Aaq2GnBPbGKaIe2\" button class=\"button\" >클릭하세요. </button> </a>\r\n",
      "-->\n",
      "<h4> 스마트금융과 카페 </h4>\n",
      "<p></p>\n",
      "<a button=\"\" class=\"button\" href=\"http://cafe.naver.com/smartpolytech\">클릭하세요.</a></div>\n"
     ]
    }
   ],
   "source": [
    "import requests, bs4, pandas as pd, numpy as np\n",
    " \n",
    "#웹페이지 html 소스 가져오기\n",
    "resp = requests.get('http://www.hadoopkorea.com/quiz')\n",
    "resp.encoding='utf-8'\n",
    "html = resp.text\n",
    "\n",
    "bs = bs4.BeautifulSoup(html, 'html.parser')\n",
    "\n",
    "# html 태그 속성으로 찾기\n",
    "find_attr = bs.find(\"div\",{\"id\":\"id_py_quiz\"})\n",
    "print(find_attr)"
   ]
  },
  {
   "cell_type": "markdown",
   "metadata": {},
   "source": [
    "### 3. 태그내 dom 부분구조 찾기"
   ]
  },
  {
   "cell_type": "code",
   "execution_count": 4,
   "metadata": {},
   "outputs": [
    {
     "name": "stdout",
     "output_type": "stream",
     "text": [
      "<a button=\"\" class=\"button\" href=\"http://cafe.naver.com/smartpolytech\">클릭하세요.</a>\n"
     ]
    }
   ],
   "source": [
    "import requests, bs4, pandas as pd, numpy as np\n",
    " \n",
    "#웹페이지 html 소스 가져오기\n",
    "resp = requests.get('http://www.hadoopkorea.com/quiz')\n",
    "resp.encoding='utf-8'\n",
    "html = resp.text\n",
    "\n",
    "bs = bs4.BeautifulSoup(html, 'html.parser')\n",
    "\n",
    "# html 부분구조 가져오기\n",
    "find_attr = bs.find(\"div\",{\"id\":\"id_py_quiz\"})\n",
    "find_part = find_attr.find(\"a\")\n",
    "print(find_part)\n"
   ]
  },
  {
   "cell_type": "markdown",
   "metadata": {},
   "source": [
    "### 4. DOM 구조 내 속성 찾기"
   ]
  },
  {
   "cell_type": "code",
   "execution_count": 5,
   "metadata": {},
   "outputs": [
    {
     "name": "stdout",
     "output_type": "stream",
     "text": [
      "https://docs.google.com/forms/d/e/1FAIpQLSff5TjqUq9u-jRxYZvTdB7k-N0AEjx0_WSIcLZCBfFiEfoRUA/viewform?usp=sf_link\n"
     ]
    }
   ],
   "source": [
    "import requests, bs4, pandas as pd, numpy as np\n",
    " \n",
    "#웹페이지 html 소스 가져오기\n",
    "resp = requests.get('http://www.hadoopkorea.com/quiz')\n",
    "resp.encoding='utf-8'\n",
    "html = resp.text\n",
    "bs = bs4.BeautifulSoup(html, 'html.parser')\n",
    "# html 부분구조 가져오기\n",
    "find_part = bs.find(\"div\",{\"id\":\"id_db_quiz\"})\n",
    "# 링크내 속성 가져오기\n",
    "link = find_part.find(\"a\")\n",
    "print(find_part.find(\"a\").attrs['href'])"
   ]
  },
  {
   "cell_type": "markdown",
   "metadata": {},
   "source": [
    "### 실습 링크 속성 추출하기"
   ]
  },
  {
   "cell_type": "code",
   "execution_count": 6,
   "metadata": {},
   "outputs": [
    {
     "name": "stdout",
     "output_type": "stream",
     "text": [
      "게시판 > http://www.kopo.ac.kr/kangseo/board.do?menu=8689\n",
      "갤러리 > http://www.kopo.ac.kr/kangseo/board.do?menu=8799\n",
      "커리큘럼 > images/curriculum.jpg\n",
      "일정 > images/schedule.jpg\n",
      "원서접수 바로가기 > https://bit.ly/2CUq2Qs\n",
      "블로그 바로가기 > http://bitly.kr/WGGH\n",
      "유튜브 바로가기 > http://bitly.kr/rC0d\n",
      "클릭하세요. > http://cafe.naver.com/smartpolytech\n",
      " 5 Pandas 데이터프레임 조작하기  > https://docs.google.com/forms/d/e/1FAIpQLSfeEFwHayEdRBMYUOBIVb1ykAW3i-slN4SIgfjMIUIcU7c_3g/viewform?usp=sf_link\n",
      " 4 파이썬 제어문  > https://docs.google.com/forms/d/e/1FAIpQLSfZNSgcQ4zEcK_R37iX36UIk4K8amZc6ZslwFo2r1zpPdJnjw/viewform?usp=sf_link\n",
      " 3 파이썬 자료형  > https://docs.google.com/forms/d/e/1FAIpQLSegE6KvpsfCDIInw8VjTS1Bt8Kk-vr5NoRfVTMOnNC3CYZfgA/viewform?usp=sf_link\n",
      " 2 파이썬 머신러닝  > https://docs.google.com/forms/d/e/1FAIpQLScz8L4Q2ewstEK1Invu3RrS0uEhQIKwhXImj60Ua_6SBi-m-g/viewform?usp=sf_link\n",
      " 1 파이썬 시작하기  > https://docs.google.com/forms/d/e/1FAIpQLSdZdofk88EAJ9-x28zDo3eNYxYo1AqQL3fzdk76K-fKdLDtCA/viewform?usp=sf_link\n",
      " 6/12 오라클 Join 퀴즈  > https://docs.google.com/forms/d/e/1FAIpQLSff5TjqUq9u-jRxYZvTdB7k-N0AEjx0_WSIcLZCBfFiEfoRUA/viewform?usp=sf_link\n",
      "운영체제 > #\n",
      "데이터베이스 > #\n",
      "빅데이터 플랫폼 > #\n",
      "빅데이터 분석 > #\n",
      "웹 프로그래밍  > #\n",
      "모바일 프로그래밍  > #\n",
      "시각화 솔루션 > #\n",
      " > #\n",
      " > #\n",
      " > #\n",
      " > #\n"
     ]
    }
   ],
   "source": [
    "import requests, bs4, pandas as pd, numpy as np\n",
    " \n",
    "#웹페이지 html 소스 가져오기\n",
    "resp = requests.get('http://www.hadoopkorea.com/quiz')\n",
    "resp.encoding='utf-8'\n",
    "html = resp.text\n",
    "\n",
    "bs = bs4.BeautifulSoup(html, 'html.parser')\n",
    "\n",
    "# html 부분구조 가져오기\n",
    "a_links = bs.findAll(\"a\")\n",
    "for a in a_links:\n",
    "    #a 링크 내 href 속성\n",
    "    href=a.attrs[\"href\"]\n",
    "    #a 링크 텍스트\n",
    "    text = a.text\n",
    "    if(href.startswith(\"/\")):\n",
    "        continue;\n",
    "    print(text, \">\", href)"
   ]
  },
  {
   "cell_type": "markdown",
   "metadata": {},
   "source": [
    "### 디버깅"
   ]
  },
  {
   "cell_type": "code",
   "execution_count": 7,
   "metadata": {
    "collapsed": true
   },
   "outputs": [],
   "source": [
    "import requests, bs4, pandas as pd, numpy as np\n",
    " \n",
    "#웹페이지 html 소스 가져오기\n",
    "resp = requests.get('http://www.hadoopkorea.com/quiz')\n",
    "resp.encoding='utf-8'\n",
    "html = resp.text\n",
    "\n",
    "bs = bs4.BeautifulSoup(html, 'html.parser')\n",
    "\n",
    "# html 부분구조 가져오기\n",
    "a_links = bs.findAll(\"a\")"
   ]
  },
  {
   "cell_type": "code",
   "execution_count": 8,
   "metadata": {
    "collapsed": true,
    "scrolled": true
   },
   "outputs": [],
   "source": [
    "a = a_links[10]"
   ]
  },
  {
   "cell_type": "code",
   "execution_count": 9,
   "metadata": {},
   "outputs": [
    {
     "name": "stdout",
     "output_type": "stream",
     "text": [
      "http://cafe.naver.com/smartpolytech\n",
      "클릭하세요.\n"
     ]
    }
   ],
   "source": [
    "href=a.attrs[\"href\"]\n",
    "print(href)\n",
    "text = a.text\n",
    "print(text)"
   ]
  },
  {
   "cell_type": "code",
   "execution_count": 10,
   "metadata": {},
   "outputs": [
    {
     "name": "stdout",
     "output_type": "stream",
     "text": [
      "클릭하세요. > http://cafe.naver.com/smartpolytech\n"
     ]
    }
   ],
   "source": [
    "#if(href.startswith(\"/\")):\n",
    "#    continue;\n",
    "print(text, \">\", href)"
   ]
  },
  {
   "cell_type": "markdown",
   "metadata": {},
   "source": [
    "### Select 편"
   ]
  },
  {
   "cell_type": "code",
   "execution_count": 11,
   "metadata": {},
   "outputs": [
    {
     "name": "stdout",
     "output_type": "stream",
     "text": [
      "usd/krw=  1,120.20\n"
     ]
    },
    {
     "data": {
      "text/html": [
       "<div>\n",
       "<style scoped>\n",
       "    .dataframe tbody tr th:only-of-type {\n",
       "        vertical-align: middle;\n",
       "    }\n",
       "\n",
       "    .dataframe tbody tr th {\n",
       "        vertical-align: top;\n",
       "    }\n",
       "\n",
       "    .dataframe thead th {\n",
       "        text-align: right;\n",
       "    }\n",
       "</style>\n",
       "<table border=\"1\" class=\"dataframe\">\n",
       "  <thead>\n",
       "    <tr style=\"text-align: right;\">\n",
       "      <th></th>\n",
       "      <th>title</th>\n",
       "    </tr>\n",
       "  </thead>\n",
       "  <tbody>\n",
       "    <tr>\n",
       "      <th>0</th>\n",
       "      <td>1,120.20</td>\n",
       "    </tr>\n",
       "  </tbody>\n",
       "</table>\n",
       "</div>"
      ],
      "text/plain": [
       "      title\n",
       "0  1,120.20"
      ]
     },
     "execution_count": 11,
     "metadata": {},
     "output_type": "execute_result"
    }
   ],
   "source": [
    "import requests, bs4, pandas as pd, numpy as np\n",
    " \n",
    "#웹페이지 html 소스 가져오기\n",
    "resp = requests.get(\"http://finance.naver.com/marketindex/\")\n",
    "resp.encoding='utf-8'\n",
    "html = resp.text\n",
    "\n",
    "bs = bs4.BeautifulSoup(html, 'html.parser')\n",
    "\n",
    "# 데이터 추출하기\n",
    "price = bs.select_one(\"div.head_info > span.value\").string\n",
    "print(\"usd/krw= \", price)\n",
    "\n",
    "# 리스트 초기화 및 데이터 담기\n",
    "outList = []\n",
    "outList.append(price)\n",
    "\n",
    "# 리스트 pandas 데이터 프레임으로 변환 및 컬럼 정의\n",
    "outDf = pd.DataFrame(outList)\n",
    "outDf.columns = ['title']\n",
    "# CSV 파일로 저장, encondig 한글깨짐 방지\n",
    "#outDf.to_csv(\"../dataset/webData.csv\", encoding='utf-8-sig',index=False)\n",
    "outDf"
   ]
  },
  {
   "cell_type": "markdown",
   "metadata": {},
   "source": [
    "### 데이터 불러오기 from web [select] - id"
   ]
  },
  {
   "cell_type": "code",
   "execution_count": 12,
   "metadata": {},
   "outputs": [
    {
     "name": "stdout",
     "output_type": "stream",
     "text": [
      "[<div class=\"class_db_quiz\" id=\"id_db_quiz\">\n",
      "<h1>데이터베이스 퀴즈 </h1>\n",
      "<a href=\"https://docs.google.com/forms/d/e/1FAIpQLSff5TjqUq9u-jRxYZvTdB7k-N0AEjx0_WSIcLZCBfFiEfoRUA/viewform?usp=sf_link\"> 6/12 오라클 Join 퀴즈 </a>\n",
      "</div>]\n"
     ]
    }
   ],
   "source": [
    "import requests, bs4, pandas as pd, numpy as np\n",
    " \n",
    "#웹페이지 html 소스 가져오기\n",
    "resp = requests.get('http://www.hadoopkorea.com/quiz')\n",
    "resp.encoding='utf-8'\n",
    "html = resp.text\n",
    "\n",
    "bs = bs4.BeautifulSoup(html, \"html.parser\")\n",
    "# div에서 id가 id_db_quiz인것만 추출\n",
    "divs = bs.select(\"div#id_db_quiz\")\n",
    "print(divs)"
   ]
  },
  {
   "cell_type": "markdown",
   "metadata": {},
   "source": [
    "### 데이터 불러오기 from web [select] - class"
   ]
  },
  {
   "cell_type": "code",
   "execution_count": 14,
   "metadata": {},
   "outputs": [
    {
     "name": "stdout",
     "output_type": "stream",
     "text": [
      "[<div class=\"class_db_quiz\" id=\"id_db_quiz\">\n",
      "<h1>데이터베이스 퀴즈 </h1>\n",
      "<a href=\"https://docs.google.com/forms/d/e/1FAIpQLSff5TjqUq9u-jRxYZvTdB7k-N0AEjx0_WSIcLZCBfFiEfoRUA/viewform?usp=sf_link\"> 6/12 오라클 Join 퀴즈 </a>\n",
      "</div>]\n"
     ]
    }
   ],
   "source": [
    "import requests, bs4, pandas as pd, numpy as np\n",
    " \n",
    "#웹페이지 html 소스 가져오기\n",
    "resp = requests.get('http://www.hadoopkorea.com/quiz')\n",
    "resp.encoding='utf-8'\n",
    "html = resp.text\n",
    "\n",
    "bs = bs4.BeautifulSoup(html, \"html.parser\")\n",
    "# div에서 id가 id_db_quiz인것만 추출\n",
    "divs = bs.select(\"div.class_db_quiz\")\n",
    "print(divs)"
   ]
  },
  {
   "cell_type": "markdown",
   "metadata": {},
   "source": [
    "### 데이터 불러오기 from web [select] - one or many"
   ]
  },
  {
   "cell_type": "code",
   "execution_count": 15,
   "metadata": {},
   "outputs": [
    {
     "name": "stdout",
     "output_type": "stream",
     "text": [
      " 6/12 오라클 Join 퀴즈 \n"
     ]
    }
   ],
   "source": [
    "import requests, bs4, pandas as pd, numpy as np\n",
    " \n",
    "#웹페이지 html 소스 가져오기\n",
    "resp = requests.get(\"http://www.hadoopkorea.com/quiz\")\n",
    "resp.encoding='utf-8'\n",
    "html = resp.text\n",
    "bs = bs4.BeautifulSoup(html, \"html.parser\")\n",
    "# div에서 class가 class_db_quiz인것만 추출 (1개)\n",
    "seone = bs.select_one(\"div.class_db_quiz > a\").string    \n",
    "# div에서 class가 class_db_quiz인것만 추출 (다수)\n",
    "divs = bs.select(\"div.class_db_quiz > a\")\n",
    "for li in divs:\n",
    "    print(li.string)"
   ]
  },
  {
   "cell_type": "markdown",
   "metadata": {},
   "source": [
    "### 실습 https://www.timeanddate.com/holidays/south-korea"
   ]
  }
 ],
 "metadata": {
  "kernelspec": {
   "display_name": "Python 3",
   "language": "python",
   "name": "python3"
  },
  "language_info": {
   "codemirror_mode": {
    "name": "ipython",
    "version": 3
   },
   "file_extension": ".py",
   "mimetype": "text/x-python",
   "name": "python",
   "nbconvert_exporter": "python",
   "pygments_lexer": "ipython3",
   "version": "3.6.3"
  }
 },
 "nbformat": 4,
 "nbformat_minor": 2
}
